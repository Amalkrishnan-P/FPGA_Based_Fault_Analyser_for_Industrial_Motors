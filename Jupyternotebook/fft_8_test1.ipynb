{
 "cells": [
  {
   "cell_type": "markdown",
   "metadata": {
    "extensions": {
     "jupyter_dashboards": {
      "version": 1,
      "views": {
       "default_view": {
        "col": 0,
        "height": 3,
        "row": 0,
        "width": 12
       }
      }
     }
    }
   },
   "source": [
    "# Available Motors :"
   ]
  },
  {
   "cell_type": "code",
   "execution_count": 69,
   "metadata": {
    "extensions": {
     "jupyter_dashboards": {
      "version": 1,
      "views": {
       "default_view": {
        "hidden": true
       }
      }
     }
    }
   },
   "outputs": [],
   "source": [
    "from pynq import Overlay\n",
    "import pandas as pd\n",
    "import matplotlib.pyplot as plt\n",
    "import numpy as np\n",
    "import ipywidgets as widgets\n",
    "from pynq import allocate\n",
    "import ipywidgets as widgets\n",
    "from IPython.display import display, clear_output\n",
    "ol = Overlay(\"fft_8_test3.bit\")\n",
    "data_channel_1 = ol.fft_dma_0\n",
    "Vib_acpe = np.array([0]*8, dtype = np.csingle)\n",
    "Vib_axial = np.array([0]*8, dtype = np.csingle)\n",
    "Vib_base = np.array([0]*8, dtype = np.csingle)\n"
   ]
  },
  {
   "cell_type": "code",
   "execution_count": 70,
   "metadata": {
    "extensions": {
     "jupyter_dashboards": {
      "version": 1,
      "views": {
       "default_view": {
        "hidden": true
       }
      }
     }
    }
   },
   "outputs": [],
   "source": [
    "df_r0b = pd.read_excel('r0b_test_8pt.xlsx')\n",
    "Vib_acpe_r0b = df_r0b.iloc[:, 0].to_numpy()\n",
    "Vib_axial_r0b = df_r0b.iloc[:, 1].to_numpy()\n",
    "Vib_base_r0b = df_r0b.iloc[:, 2].to_numpy()\n",
    "\n",
    "df_r1b = pd.read_excel('r0b_test_8pt.xlsx')\n",
    "Vib_acpe_r1b = df_r1b.iloc[:, 0].to_numpy()\n",
    "Vib_axial_r1b = df_r1b.iloc[:, 1].to_numpy()\n",
    "Vib_base_r1b = df_r1b.iloc[:, 2].to_numpy()\n",
    "\n",
    "df_r2b = pd.read_excel('r2b_test_8pt.xlsx')\n",
    "Vib_acpe_r2b = df_r2b.iloc[:, 0].to_numpy()\n",
    "Vib_axial_r2b = df_r2b.iloc[:, 1].to_numpy()\n",
    "Vib_base_r2b = df_r2b.iloc[:, 2].to_numpy()\n",
    "\n",
    "df_r3b = pd.read_excel('r4b_test_8pt.xlsx')\n",
    "Vib_acpe_r3b = df_r3b.iloc[:, 0].to_numpy()\n",
    "Vib_axial_r3b = df_r3b.iloc[:, 1].to_numpy()\n",
    "Vib_base_r3b = df_r3b.iloc[:, 2].to_numpy()\n",
    "\n",
    "df_r4b = pd.read_excel('loose 25 test.xlsx')\n",
    "Vib_acpe_r4b = df_r4b.iloc[:, 0].to_numpy()\n",
    "Vib_axial_r4b = df_r4b.iloc[:, 1].to_numpy()\n",
    "Vib_base_r4b = df_r4b.iloc[:, 2].to_numpy()\n",
    "\n",
    "df_r5b = pd.read_excel('loose 50 test.xlsx')\n",
    "Vib_acpe_r5b = df_r5b.iloc[:, 0].to_numpy()\n",
    "Vib_axial_r5b = df_r5b.iloc[:, 1].to_numpy()\n",
    "Vib_base_r5b = df_r5b.iloc[:, 2].to_numpy()\n",
    "\n",
    "df_r6b = pd.read_excel('unbalanced motor test.xlsx')\n",
    "Vib_acpe_r6b = df_r6b.iloc[:, 0].to_numpy()\n",
    "Vib_axial_r6b = df_r6b.iloc[:, 1].to_numpy()\n",
    "Vib_base_r6b = df_r6b.iloc[:, 2].to_numpy()\n",
    "\n",
    "# df_r7b = pd.read_excel('r0b_test_8pt.xlsx')\n",
    "# Vib_acpe_r7b = df_r7b.iloc[:, 0].to_numpy()\n",
    "# Vib_axial_r7b = df_r7b.iloc[:, 1].to_numpy()\n",
    "# Vib_base_r7b = df_r7b.iloc[:, 2].to_numpy()\n",
    "\n",
    "\n",
    "data1_r0b = np.array(Vib_base_r0b, dtype=np.csingle)\n",
    "data2_r0b = np.array(Vib_axial_r0b, dtype=np.csingle)\n",
    "data3_r0b = np.array(Vib_acpe_r0b, dtype=np.csingle)\n",
    "\n",
    "data1_r1b = np.array(Vib_base_r1b, dtype=np.csingle)\n",
    "data2_r1b = np.array(Vib_axial_r1b, dtype=np.csingle)\n",
    "data3_r1b = np.array(Vib_acpe_r1b, dtype=np.csingle)\n",
    "\n",
    "data1_r2b = np.array(Vib_base_r2b, dtype=np.csingle)\n",
    "data2_r2b = np.array(Vib_axial_r2b, dtype=np.csingle)\n",
    "data3_r2b = np.array(Vib_acpe_r2b, dtype=np.csingle)\n",
    "\n",
    "data1_r3b = np.array(Vib_base_r3b, dtype=np.csingle)\n",
    "data2_r3b = np.array(Vib_axial_r3b, dtype=np.csingle)\n",
    "data3_r3b = np.array(Vib_acpe_r3b, dtype=np.csingle)\n",
    "\n",
    "data1_r4b = np.array(Vib_base_r4b, dtype=np.csingle)\n",
    "data2_r4b = np.array(Vib_axial_r4b, dtype=np.csingle)\n",
    "data3_r4b = np.array(Vib_acpe_r4b, dtype=np.csingle)\n",
    "\n",
    "data1_r5b = np.array(Vib_base_r5b, dtype=np.csingle)\n",
    "data2_r5b = np.array(Vib_axial_r5b, dtype=np.csingle)\n",
    "data3_r5b = np.array(Vib_acpe_r5b, dtype=np.csingle)\n",
    "\n",
    "data1_r6b = np.array(Vib_base_r6b, dtype=np.csingle)\n",
    "data2_r6b = np.array(Vib_axial_r6b, dtype=np.csingle)\n",
    "data3_r6b = np.array(Vib_acpe_r6b, dtype=np.csingle)\n",
    "\n",
    "# data1_r7b = np.array(Vib_base_r7b, dtype=np.csingle)\n",
    "# data2_r7b = np.array(Vib_axial_r7b, dtype=np.csingle)\n",
    "# data3_r7b = np.array(Vib_acpe_r7b, dtype=np.csingle)\n"
   ]
  },
  {
   "cell_type": "code",
   "execution_count": 98,
   "metadata": {
    "extensions": {
     "jupyter_dashboards": {
      "version": 1,
      "views": {
       "default_view": {
        "col": 0,
        "height": 5,
        "row": 3,
        "width": 12
       }
      }
     }
    }
   },
   "outputs": [
    {
     "data": {
      "application/vnd.jupyter.widget-view+json": {
       "model_id": "227b05410300425199cbb93edaff310a",
       "version_major": 2,
       "version_minor": 0
      },
      "text/plain": [
       "ToggleButtons(description='Select Motor:', options=('Motor 1', 'Motor 2', 'Motor 3', 'Motor 4', 'Motor 5', 'Mo…"
      ]
     },
     "metadata": {},
     "output_type": "display_data"
    },
    {
     "data": {
      "application/vnd.jupyter.widget-view+json": {
       "model_id": "266bc3b4b5e34e388e2e69ac0f123cfe",
       "version_major": 2,
       "version_minor": 0
      },
      "text/plain": [
       "Output()"
      ]
     },
     "metadata": {},
     "output_type": "display_data"
    },
    {
     "data": {
      "application/vnd.jupyter.widget-view+json": {
       "model_id": "a962f8dcb18a42d389a65f691bd29262",
       "version_major": 2,
       "version_minor": 0
      },
      "text/plain": [
       "IntText(value=0, description='Chosen Motor:', disabled=True)"
      ]
     },
     "metadata": {},
     "output_type": "display_data"
    }
   ],
   "source": [
    "\n",
    "choose_motor = widgets.ToggleButtons(\n",
    "    options=['Motor 1', 'Motor 2', 'Motor 3', 'Motor 4', 'Motor 5', 'Motor 6'],\n",
    "    description='Select Motor:'\n",
    ")\n",
    "\n",
    "output = widgets.Output()\n",
    "\n",
    "chosen_motor_widget = widgets.IntText(value=None, description='Chosen Motor:', disabled=True)\n",
    "\n",
    "# Function to capture the change and display the selected motor\n",
    "def on_motor_change(change):\n",
    "    global chosen_motor_value\n",
    "    with output:\n",
    "        clear_output(wait=True)  # Clears previous output\n",
    "        # Set the chosen motor value based on the selected option\n",
    "        if change.new == 'Motor 1':\n",
    "            chosen_motor_widget.value = 1\n",
    "            chosen_motor_value = 1  # Update the global variable\n",
    "        elif change.new == 'Motor 2':\n",
    "            chosen_motor_widget.value = 2\n",
    "            chosen_motor_value = 2\n",
    "        elif change.new == 'Motor 3':\n",
    "            chosen_motor_widget.value = 3\n",
    "            chosen_motor_value = 3\n",
    "        elif change.new == 'Motor 4':\n",
    "            chosen_motor_widget.value = 4\n",
    "            chosen_motor_value = 4\n",
    "        elif change.new == 'Motor 5':\n",
    "            chosen_motor_widget.value = 5\n",
    "            chosen_motor_value = 5\n",
    "        elif change.new == 'Motor 6':\n",
    "            chosen_motor_widget.value = 6\n",
    "            chosen_motor_value = 6\n",
    "#         elif change.new == 'Motor 7':\n",
    "#             chosen_motor_widget.value = 7\n",
    "#             chosen_motor_value = 7\n",
    "        else:\n",
    "            chosen_motor_widget.value = 1  # Default to Motor 1 if unrecognized\n",
    "            chosen_motor_value = 1  # Default value\n",
    "\n",
    "        # Call another function with the selected motor value\n",
    "        update_motor_status(chosen_motor_widget.value)\n",
    "\n",
    "# Function that reacts to motor value change\n",
    "def update_motor_status(motor_value):\n",
    "    print('')\n",
    "\n",
    "# Observe the change in the toggle buttons\n",
    "choose_motor.observe(on_motor_change, names='value')\n",
    "\n",
    "display(choose_motor, output, chosen_motor_widget)"
   ]
  },
  {
   "cell_type": "code",
   "execution_count": 99,
   "metadata": {
    "extensions": {
     "jupyter_dashboards": {
      "version": 1,
      "views": {
       "default_view": {
        "hidden": true
       }
      }
     }
    }
   },
   "outputs": [],
   "source": [
    "chosen_motor=chosen_motor_value\n",
    "if chosen_motor == 1:\n",
    "    Vib_acpe = data1_r1b\n",
    "    Vib_axial = data2_r1b\n",
    "    Vib_base = data3_r1b\n",
    "elif chosen_motor == 2:\n",
    "    Vib_acpe = Vib_acpe_r2b\n",
    "    Vib_axial = Vib_axial_r2b\n",
    "    Vib_base = Vib_base_r2b\n",
    "elif chosen_motor == 3:\n",
    "    Vib_acpe = Vib_acpe_r3b\n",
    "    Vib_axial = Vib_axial_r3b\n",
    "    Vib_base = Vib_base_r3b\n",
    "elif chosen_motor == 4:\n",
    "    Vib_acpe = Vib_acpe_r4b\n",
    "    Vib_axial = Vib_axial_r4b\n",
    "    Vib_base = Vib_base_r4b\n",
    "elif chosen_motor == 5:\n",
    "    Vib_acpe = Vib_acpe_r5b\n",
    "    Vib_axial = Vib_axial_r5b\n",
    "    Vib_base = Vib_base_r5b\n",
    "elif chosen_motor == 6:\n",
    "    Vib_acpe = Vib_acpe_r6b\n",
    "    Vib_axial = Vib_axial_r6b\n",
    "    Vib_base = Vib_base_r6b\n",
    "elif chosen_motor == 7:\n",
    "    Vib_acpe = Vib_acpe_r7b\n",
    "    Vib_axial = Vib_axial_r7b\n",
    "    Vib_base = Vib_base_r7b\n",
    "else:  # Default case (r0b)\n",
    "    Vib_acpe = Vib_acpe_r0b\n",
    "    Vib_axial = Vib_axial_r0b\n",
    "    Vib_base = Vib_base_r0b\n"
   ]
  },
  {
   "cell_type": "markdown",
   "metadata": {
    "extensions": {
     "jupyter_dashboards": {
      "version": 1,
      "views": {
       "default_view": {
        "col": 0,
        "height": 3,
        "row": 8,
        "width": 12
       }
      }
     }
    }
   },
   "source": [
    "# Amplitude Spectrum :"
   ]
  },
  {
   "cell_type": "code",
   "execution_count": 100,
   "metadata": {
    "extensions": {
     "jupyter_dashboards": {
      "version": 1,
      "views": {
       "default_view": {
        "col": 0,
        "height": 11,
        "row": 11,
        "width": 12
       }
      }
     }
    }
   },
   "outputs": [
    {
     "data": {
      "image/png": "[encoded data removed]",
      "text/plain": [
       "<Figure size 1440x360 with 3 Axes>"
      ]
     },
     "metadata": {
      "needs_background": "light"
     },
     "output_type": "display_data"
    },
    {
     "name": "stdout",
     "output_type": "stream",
     "text": [
      "Motor Health : Good    Damage Level : 0 % \n"
     ]
    }
   ],
   "source": [
    "#input and output buffers\n",
    "input_buffer = allocate(8, np.csingle)\n",
    "output_buffer = allocate(8, np.csingle)\n",
    "\n",
    "# Send and receive channels\n",
    "send_channel = data_channel_1.sendchannel\n",
    "recv_channel = data_channel_1.recvchannel\n",
    "\n",
    "# Transfer data for Vib_base\n",
    "np.copyto(input_buffer, Vib_base)\n",
    "send_channel.transfer(input_buffer)\n",
    "recv_channel.transfer(output_buffer)\n",
    "send_channel.wait()\n",
    "recv_channel.wait()\n",
    "\n",
    "# Prepare output1\n",
    "output1 = np.array([0] * 8, dtype=np.cdouble)\n",
    "np.copyto(output1, output_buffer)\n",
    "\n",
    "# Transfer data for Vib_axial\n",
    "input_buffer = allocate(8, np.csingle)\n",
    "output_buffer = allocate(8, np.csingle)\n",
    "\n",
    "np.copyto(input_buffer, Vib_axial)\n",
    "send_channel.transfer(input_buffer)\n",
    "recv_channel.transfer(output_buffer)\n",
    "send_channel.wait()\n",
    "recv_channel.wait()\n",
    "\n",
    "# Prepare output2\n",
    "output2 = np.array([0] * 8, dtype=np.cdouble)\n",
    "np.copyto(output2, output_buffer)\n",
    "\n",
    "# Transfer data for Vib_acpe\n",
    "input_buffer = allocate(8, np.csingle)\n",
    "output_buffer = allocate(8, np.csingle)\n",
    "\n",
    "np.copyto(input_buffer, Vib_acpe)\n",
    "send_channel.transfer(input_buffer)\n",
    "recv_channel.transfer(output_buffer)\n",
    "send_channel.wait()\n",
    "recv_channel.wait()\n",
    "\n",
    "# Prepare output3\n",
    "output3 = np.array([0] * 8, dtype=np.cdouble)\n",
    "np.copyto(output3, output_buffer)\n",
    "\n",
    "# Sampling frequency and DFT parameters\n",
    "Fs = 7600 / 32  # Sampling frequency\n",
    "N = 8           # N-point DFT\n",
    "\n",
    "if chosen_motor == 1 or chosen_motor == 2 or chosen_motor == 3:\n",
    "    f = np.arange(0, N) * (Fs / N)\n",
    "    # Calculate the magnitude of the spectra\n",
    "    P_1 = np.abs(output1[:N // 2 + 1]) / (N + 4)\n",
    "    P_2 = np.abs(output2[:N // 2 + 1]) / (N + 4)\n",
    "    P_3 = P_2\n",
    "else: \n",
    "    f = (np.arange(0, N) * (Fs / N)) - 20\n",
    "    # Calculate the magnitude of the spectra\n",
    "    P_1 = np.abs(output1[:N // 2 + 1]) / (N + 4)\n",
    "    P_3 = np.abs(output2[:N // 2 + 1]) / (N + 4)\n",
    "    P_2 = np.abs(output3[:N // 2 + 1]) / (N + 4)\n",
    "\n",
    "# # Calculate the magnitude of the spectra\n",
    "# P_1 = np.abs(output1[:N // 2 + 1]) / (N + 4)\n",
    "# P_2 = np.abs(output2[:N // 2 + 1]) / (N + 4)\n",
    "# P_3 = np.abs(output3[:N // 2 + 1]) / (N + 4)\n",
    "\n",
    "# Frequency values for the plots\n",
    "f_1 = f[:N // 2 + 1]\n",
    "f1 = f_1\n",
    "f2 = f_1\n",
    "f3 = f_1\n",
    "\n",
    "# Spectrum values\n",
    "P1 = P_1\n",
    "P2 = P_2\n",
    "P3 = P_3\n",
    "\n",
    "fig, axes = plt.subplots(1, 3, figsize=(20, 5))\n",
    "\n",
    "# Data for plotting\n",
    "data = [(f1, P1), (f2, P2), (f3, P3)]\n",
    "titles = ['Spectrum 1 (Tangential Vibration)', 'Spectrum 2 (Radial Vibration)', 'Spectrum 3 (Axial Vibration)']\n",
    "\n",
    "\n",
    "for i, ax in enumerate(axes):\n",
    "    f, P = data[i]\n",
    "    ax.stem(f, P, use_line_collection=True)\n",
    "    ax.set_xlim(0, 200)\n",
    "    ax.set_ylim(0, 6)\n",
    "    ax.set_xlabel('Frequency (Hz)')\n",
    "    ax.set_ylabel('Amplitude')\n",
    "    ax.set_title(titles[i])\n",
    "    ax.grid(True)\n",
    "\n",
    "plt.tight_layout()\n",
    "plt.show()\n",
    "\n",
    "# print('Motor Health : Good    Damage Level : 0 % ')\n",
    "if chosen_motor == 1 or chosen_motor == 2 or chosen_motor == 3:\n",
    "    if P1[1] < 2.5:\n",
    "        print('Motor Health : Good    Damage Level : 0 % ')\n",
    "    elif P1[1] < 3:\n",
    "        print('Motor Health : Slightly damaged    Damage Level : 6 % ')\n",
    "    elif P1[1] < 4:\n",
    "        print('Motor Health : Damaged    Damage Level : 12 % ')\n",
    "\n",
    "elif chosen_motor == 4 or chosen_motor == 5:\n",
    "    if P2[1] < 1:\n",
    "        print('Motor Health : Frame Loose    Looseness Level : 25 % ')\n",
    "    elif P2[1] < 2:\n",
    "        print('Motor Health : Frame Loose High   Looseness Level : 50 % ')\n",
    "\n",
    "elif chosen_motor == 6: \n",
    "        print('Motor Health : Unbalanced')\n",
    "else: \n",
    "    print ('Motor data unavailable')"
   ]
  }
 ],
 "metadata": {
  "extensions": {
   "jupyter_dashboards": {
    "activeView": "default_view",
    "version": 1,
    "views": {
     "default_view": {
      "cellMargin": 10,
      "defaultCellHeight": 40,
      "maxColumns": 12,
      "name": "active_view",
      "type": "grid"
     }
    }
   }
  },
  "kernelspec": {
   "display_name": "Python 3 (ipykernel)",
   "language": "python",
   "name": "python3"
  },
  "language_info": {
   "codemirror_mode": {
    "name": "ipython",
    "version": 3
   },
   "file_extension": ".py",
   "mimetype": "text/x-python",
   "name": "python",
   "nbconvert_exporter": "python",
   "pygments_lexer": "ipython3",
   "version": "3.10.4"
  }
 },
 "nbformat": 4,
 "nbformat_minor": 4
}
